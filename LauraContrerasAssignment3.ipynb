{
 "cells": [
  {
   "cell_type": "code",
   "execution_count": 350,
   "id": "9c635e1c",
   "metadata": {},
   "outputs": [],
   "source": [
    "import numpy as np\n",
    "import pandas as pd\n",
    "import matplotlib.pyplot as plt\n",
    "import seaborn as sns\n",
    "import math"
   ]
  },
  {
   "cell_type": "markdown",
   "id": "429fa784",
   "metadata": {},
   "source": [
    "## Part 1\n",
    "Load the titanic dataset fromSeabornby using the load_dataset(‘titanic’) method. Document the columns that aremissing data both numerically (via a count) and visually (via an sns heatmap). Document which values are categorical. Explore the data and answer the following questions: Did more women or men die on the Titanic? Whichpassenger class was more likely to survive? What does the distribution of farelook like? What does the distribution of non-null age values look like? What isthemedian age of each passenger class (pclass)? Visualize this in a box plot."
   ]
  },
  {
   "cell_type": "code",
   "execution_count": 351,
   "id": "55c46b06",
   "metadata": {},
   "outputs": [],
   "source": [
    "titanic = sns.load_dataset(\"titanic\")"
   ]
  },
  {
   "cell_type": "code",
   "execution_count": 352,
   "id": "d03bebd4",
   "metadata": {},
   "outputs": [
    {
     "data": {
      "text/html": [
       "<div>\n",
       "<style scoped>\n",
       "    .dataframe tbody tr th:only-of-type {\n",
       "        vertical-align: middle;\n",
       "    }\n",
       "\n",
       "    .dataframe tbody tr th {\n",
       "        vertical-align: top;\n",
       "    }\n",
       "\n",
       "    .dataframe thead th {\n",
       "        text-align: right;\n",
       "    }\n",
       "</style>\n",
       "<table border=\"1\" class=\"dataframe\">\n",
       "  <thead>\n",
       "    <tr style=\"text-align: right;\">\n",
       "      <th></th>\n",
       "      <th>survived</th>\n",
       "      <th>pclass</th>\n",
       "      <th>sex</th>\n",
       "      <th>age</th>\n",
       "      <th>sibsp</th>\n",
       "      <th>parch</th>\n",
       "      <th>fare</th>\n",
       "      <th>embarked</th>\n",
       "      <th>class</th>\n",
       "      <th>who</th>\n",
       "      <th>adult_male</th>\n",
       "      <th>deck</th>\n",
       "      <th>embark_town</th>\n",
       "      <th>alive</th>\n",
       "      <th>alone</th>\n",
       "    </tr>\n",
       "  </thead>\n",
       "  <tbody>\n",
       "    <tr>\n",
       "      <th>0</th>\n",
       "      <td>0</td>\n",
       "      <td>3</td>\n",
       "      <td>male</td>\n",
       "      <td>22.0</td>\n",
       "      <td>1</td>\n",
       "      <td>0</td>\n",
       "      <td>7.2500</td>\n",
       "      <td>S</td>\n",
       "      <td>Third</td>\n",
       "      <td>man</td>\n",
       "      <td>True</td>\n",
       "      <td>NaN</td>\n",
       "      <td>Southampton</td>\n",
       "      <td>no</td>\n",
       "      <td>False</td>\n",
       "    </tr>\n",
       "    <tr>\n",
       "      <th>1</th>\n",
       "      <td>1</td>\n",
       "      <td>1</td>\n",
       "      <td>female</td>\n",
       "      <td>38.0</td>\n",
       "      <td>1</td>\n",
       "      <td>0</td>\n",
       "      <td>71.2833</td>\n",
       "      <td>C</td>\n",
       "      <td>First</td>\n",
       "      <td>woman</td>\n",
       "      <td>False</td>\n",
       "      <td>C</td>\n",
       "      <td>Cherbourg</td>\n",
       "      <td>yes</td>\n",
       "      <td>False</td>\n",
       "    </tr>\n",
       "    <tr>\n",
       "      <th>2</th>\n",
       "      <td>1</td>\n",
       "      <td>3</td>\n",
       "      <td>female</td>\n",
       "      <td>26.0</td>\n",
       "      <td>0</td>\n",
       "      <td>0</td>\n",
       "      <td>7.9250</td>\n",
       "      <td>S</td>\n",
       "      <td>Third</td>\n",
       "      <td>woman</td>\n",
       "      <td>False</td>\n",
       "      <td>NaN</td>\n",
       "      <td>Southampton</td>\n",
       "      <td>yes</td>\n",
       "      <td>True</td>\n",
       "    </tr>\n",
       "    <tr>\n",
       "      <th>3</th>\n",
       "      <td>1</td>\n",
       "      <td>1</td>\n",
       "      <td>female</td>\n",
       "      <td>35.0</td>\n",
       "      <td>1</td>\n",
       "      <td>0</td>\n",
       "      <td>53.1000</td>\n",
       "      <td>S</td>\n",
       "      <td>First</td>\n",
       "      <td>woman</td>\n",
       "      <td>False</td>\n",
       "      <td>C</td>\n",
       "      <td>Southampton</td>\n",
       "      <td>yes</td>\n",
       "      <td>False</td>\n",
       "    </tr>\n",
       "    <tr>\n",
       "      <th>4</th>\n",
       "      <td>0</td>\n",
       "      <td>3</td>\n",
       "      <td>male</td>\n",
       "      <td>35.0</td>\n",
       "      <td>0</td>\n",
       "      <td>0</td>\n",
       "      <td>8.0500</td>\n",
       "      <td>S</td>\n",
       "      <td>Third</td>\n",
       "      <td>man</td>\n",
       "      <td>True</td>\n",
       "      <td>NaN</td>\n",
       "      <td>Southampton</td>\n",
       "      <td>no</td>\n",
       "      <td>True</td>\n",
       "    </tr>\n",
       "  </tbody>\n",
       "</table>\n",
       "</div>"
      ],
      "text/plain": [
       "   survived  pclass     sex   age  sibsp  parch     fare embarked  class  \\\n",
       "0         0       3    male  22.0      1      0   7.2500        S  Third   \n",
       "1         1       1  female  38.0      1      0  71.2833        C  First   \n",
       "2         1       3  female  26.0      0      0   7.9250        S  Third   \n",
       "3         1       1  female  35.0      1      0  53.1000        S  First   \n",
       "4         0       3    male  35.0      0      0   8.0500        S  Third   \n",
       "\n",
       "     who  adult_male deck  embark_town alive  alone  \n",
       "0    man        True  NaN  Southampton    no  False  \n",
       "1  woman       False    C    Cherbourg   yes  False  \n",
       "2  woman       False  NaN  Southampton   yes   True  \n",
       "3  woman       False    C  Southampton   yes  False  \n",
       "4    man        True  NaN  Southampton    no   True  "
      ]
     },
     "execution_count": 352,
     "metadata": {},
     "output_type": "execute_result"
    }
   ],
   "source": [
    "titanic.head(5)"
   ]
  },
  {
   "cell_type": "markdown",
   "id": "1082ef75",
   "metadata": {},
   "source": [
    "#### Observing the missing values"
   ]
  },
  {
   "cell_type": "code",
   "execution_count": 353,
   "id": "258ce512",
   "metadata": {
    "scrolled": true
   },
   "outputs": [
    {
     "data": {
      "text/plain": [
       "survived         0\n",
       "pclass           0\n",
       "sex              0\n",
       "age            177\n",
       "sibsp            0\n",
       "parch            0\n",
       "fare             0\n",
       "embarked         2\n",
       "class            0\n",
       "who              0\n",
       "adult_male       0\n",
       "deck           688\n",
       "embark_town      2\n",
       "alive            0\n",
       "alone            0\n",
       "dtype: int64"
      ]
     },
     "execution_count": 353,
     "metadata": {},
     "output_type": "execute_result"
    }
   ],
   "source": [
    "titanic.isnull().sum()"
   ]
  },
  {
   "cell_type": "code",
   "execution_count": 354,
   "id": "47dffb64",
   "metadata": {},
   "outputs": [
    {
     "data": {
      "image/png": "[encoded data removed]",
      "text/plain": [
       "<Figure size 720x432 with 2 Axes>"
      ]
     },
     "metadata": {
      "needs_background": "light"
     },
     "output_type": "display_data"
    }
   ],
   "source": [
    "plt.figure(figsize=(10,6))\n",
    "sns.heatmap(titanic.isna().transpose(), cmap='Blues')\n",
    "plt.title(\"Missing Values\", fontsize=12)\n",
    "plt.show()"
   ]
  },
  {
   "cell_type": "markdown",
   "id": "b85fc28c",
   "metadata": {},
   "source": [
    "The four attributes with missing data are age (177 missing, continuous), embarked (2 missing, categorical), deck (688 missing, catergorical), and embark_town (2 missing, categorical). \n",
    "\n",
    "In the heatmap we can visually see that the deck and age attribute have the highest amount of missing variables. "
   ]
  },
  {
   "cell_type": "markdown",
   "id": "767f3b02",
   "metadata": {},
   "source": [
    "### Looking at the Variable Types"
   ]
  },
  {
   "cell_type": "code",
   "execution_count": 355,
   "id": "118b5be0",
   "metadata": {},
   "outputs": [
    {
     "data": {
      "text/plain": [
       "survived          int64\n",
       "pclass            int64\n",
       "sex              object\n",
       "age             float64\n",
       "sibsp             int64\n",
       "parch             int64\n",
       "fare            float64\n",
       "embarked         object\n",
       "class          category\n",
       "who              object\n",
       "adult_male         bool\n",
       "deck           category\n",
       "embark_town      object\n",
       "alive            object\n",
       "alone              bool\n",
       "dtype: object"
      ]
     },
     "execution_count": 355,
     "metadata": {},
     "output_type": "execute_result"
    }
   ],
   "source": [
    "titanic.dtypes"
   ]
  },
  {
   "cell_type": "code",
   "execution_count": 356,
   "id": "41ae6a9c",
   "metadata": {},
   "outputs": [],
   "source": [
    "for col in ['sex', 'embarked', 'class', 'who', 'embark_town']:\n",
    "    titanic[col] = titanic[col].astype('category')"
   ]
  },
  {
   "cell_type": "code",
   "execution_count": 357,
   "id": "a62035fa",
   "metadata": {},
   "outputs": [],
   "source": [
    "cat_vars = {False:0, True:1, 'yes':1, 'no':0}\n",
    "for col in ['adult_male', 'alive', 'alone']:\n",
    "    titanic[col] = titanic[col].map(cat_vars)"
   ]
  },
  {
   "cell_type": "code",
   "execution_count": 358,
   "id": "0b4368ba",
   "metadata": {},
   "outputs": [
    {
     "data": {
      "text/plain": [
       "survived          int64\n",
       "pclass            int64\n",
       "sex            category\n",
       "age             float64\n",
       "sibsp             int64\n",
       "parch             int64\n",
       "fare            float64\n",
       "embarked       category\n",
       "class          category\n",
       "who            category\n",
       "adult_male        int64\n",
       "deck           category\n",
       "embark_town    category\n",
       "alive             int64\n",
       "alone             int64\n",
       "dtype: object"
      ]
     },
     "execution_count": 358,
     "metadata": {},
     "output_type": "execute_result"
    }
   ],
   "source": [
    "titanic.dtypes"
   ]
  },
  {
   "cell_type": "markdown",
   "id": "95c344db",
   "metadata": {},
   "source": [
    "### Explorator analysis \n",
    "\n",
    "##### Survival by sex"
   ]
  },
  {
   "cell_type": "code",
   "execution_count": 359,
   "id": "33517c6f",
   "metadata": {},
   "outputs": [
    {
     "data": {
      "text/plain": [
       "Text(0.5, 1.0, 'Suvival by Titanic Passangers')"
      ]
     },
     "execution_count": 359,
     "metadata": {},
     "output_type": "execute_result"
    },
    {
     "data": {
      "text/plain": [
       "<Figure size 720x504 with 0 Axes>"
      ]
     },
     "metadata": {},
     "output_type": "display_data"
    },
    {
     "data": {
      "image/png": "[encoded data removed]",
      "text/plain": [
       "<Figure size 410.875x360 with 1 Axes>"
      ]
     },
     "metadata": {
      "needs_background": "light"
     },
     "output_type": "display_data"
    }
   ],
   "source": [
    "# Did more women or men die on the Titanic?\n",
    "plt.figure(figsize=(10,7))\n",
    "sns.catplot(x =\"sex\", hue =\"survived\", kind =\"count\", data = titanic)\n",
    "plt.title(\"Suvival by Titanic Passangers\")"
   ]
  },
  {
   "cell_type": "markdown",
   "id": "7459084c",
   "metadata": {},
   "source": [
    "From this plot we can see that more men died the Titanic than women. You were more likely to survive if you were female. "
   ]
  },
  {
   "cell_type": "markdown",
   "id": "68ca5fbf",
   "metadata": {},
   "source": [
    "##### Survival by passenger class"
   ]
  },
  {
   "cell_type": "code",
   "execution_count": 360,
   "id": "8b47a644",
   "metadata": {},
   "outputs": [
    {
     "data": {
      "text/plain": [
       "Text(0.5, 1.0, 'Suvival by Titanic Passangers')"
      ]
     },
     "execution_count": 360,
     "metadata": {},
     "output_type": "execute_result"
    },
    {
     "data": {
      "text/plain": [
       "<Figure size 720x504 with 0 Axes>"
      ]
     },
     "metadata": {},
     "output_type": "display_data"
    },
    {
     "data": {
      "image/png": "[encoded data removed]",
      "text/plain": [
       "<Figure size 410.875x360 with 1 Axes>"
      ]
     },
     "metadata": {
      "needs_background": "light"
     },
     "output_type": "display_data"
    }
   ],
   "source": [
    "# Which passenger class was more likely to survive?\n",
    "plt.figure(figsize=(10,7))\n",
    "sns.catplot(x =\"pclass\", hue='survived', kind ='count', data = titanic)\n",
    "plt.title(\"Suvival by Titanic Passangers\")"
   ]
  },
  {
   "cell_type": "markdown",
   "id": "8ccfb8b3",
   "metadata": {},
   "source": [
    "From this plot, we can see that if you were in 1st class, you were more likely to survive, while second and third class were less likely to survive. We can also see that Third Class had the highest number of deaths on the Titanic."
   ]
  },
  {
   "cell_type": "markdown",
   "id": "4577d672",
   "metadata": {},
   "source": [
    "##### Distribution of Fare"
   ]
  },
  {
   "cell_type": "code",
   "execution_count": 361,
   "id": "76bee7f9",
   "metadata": {},
   "outputs": [
    {
     "data": {
      "image/png": "[encoded data removed]",
      "text/plain": [
       "<Figure size 720x504 with 1 Axes>"
      ]
     },
     "metadata": {
      "needs_background": "light"
     },
     "output_type": "display_data"
    }
   ],
   "source": [
    "plt.figure(figsize=(10,7))\n",
    "sns.histplot(data=titanic, stat=\"count\", x='fare')\n",
    "plt.title(\"Fare Distribution\")\n",
    "plt.show()"
   ]
  },
  {
   "cell_type": "markdown",
   "id": "5ce50528",
   "metadata": {},
   "source": [
    "Looking at the distribution of the fare, majority of the tickets sold were below 50 dollars, with of tickets sold around the $10 price. We do have a couple of outliers with a couple above 200 dollars and one greater than 500 dollars. "
   ]
  },
  {
   "cell_type": "code",
   "execution_count": 362,
   "id": "27ab786c",
   "metadata": {},
   "outputs": [
    {
     "data": {
      "image/png": "[encoded data removed]",
      "text/plain": [
       "<Figure size 720x504 with 1 Axes>"
      ]
     },
     "metadata": {
      "needs_background": "light"
     },
     "output_type": "display_data"
    }
   ],
   "source": [
    "# Looking at the titanic fare attribute via bar plot. \n",
    "titanic['fare_bin'] = pd.qcut(titanic['fare'], 4)\n",
    "\n",
    "#bar plot of the fare range\n",
    "plt.figure(figsize=(10,7))\n",
    "sns.barplot(x ='fare_bin',  y= 'survived', data = titanic)\n",
    "plt.title(\"Survival by Fare Price\")\n",
    "plt.show()"
   ]
  },
  {
   "cell_type": "markdown",
   "id": "44d1b348",
   "metadata": {},
   "source": [
    "Here I looked binning the data into 4 equal sized bins and then looked at their chance of survival. From here we can see that a higher fare price passenger had a greater chance of survival on the Titanic than a passenger with a lower price fare."
   ]
  },
  {
   "cell_type": "markdown",
   "id": "62adbf7e",
   "metadata": {},
   "source": [
    "##### Distribution of Age"
   ]
  },
  {
   "cell_type": "code",
   "execution_count": 363,
   "id": "5932ca87",
   "metadata": {},
   "outputs": [
    {
     "data": {
      "image/png": "[encoded data removed]",
      "text/plain": [
       "<Figure size 720x504 with 1 Axes>"
      ]
     },
     "metadata": {
      "needs_background": "light"
     },
     "output_type": "display_data"
    }
   ],
   "source": [
    "plt.figure(figsize=(10,7))\n",
    "df1 = titanic[titanic['age'].notnull()]\n",
    "sns.histplot(df1['age'])\n",
    "plt.title(\"Age Distribution (Non-null)\")\n",
    "plt.show()"
   ]
  },
  {
   "cell_type": "markdown",
   "id": "4fcaccdc",
   "metadata": {},
   "source": [
    "Here we can see that the age distribution ranged from months old to 80 years old. A large portion of the passangers were in the upper teenage years to mid-30s. The next largest group was the 40 to mid-50s age."
   ]
  },
  {
   "cell_type": "code",
   "execution_count": 364,
   "id": "99f7696f",
   "metadata": {},
   "outputs": [
    {
     "data": {
      "image/png": "[encoded data removed]",
      "text/plain": [
       "<Figure size 720x504 with 1 Axes>"
      ]
     },
     "metadata": {
      "needs_background": "light"
     },
     "output_type": "display_data"
    }
   ],
   "source": [
    "# Median Age by Box Plot\n",
    "plt.figure(figsize=(10,7))\n",
    "sns.boxplot(data = df1, x = 'pclass', y='age')\n",
    "plt.title(\"Passenger Class vs Age\")\n",
    "plt.show()"
   ]
  },
  {
   "cell_type": "markdown",
   "id": "1a4f0bca",
   "metadata": {},
   "source": [
    "Looking at the boxplot for the ages by passenger class, we see in Class 1 the median age is around 38, Class 2 median age is about 30, and Class 3 is about 26. We can see that Class 1 has the largest range of ages, while Class 3 has the smallest range of ages. "
   ]
  },
  {
   "cell_type": "code",
   "execution_count": 365,
   "id": "17b39d21",
   "metadata": {},
   "outputs": [],
   "source": [
    "med1 = titanic[titanic['pclass'] == 1]['age'].median()\n",
    "med2 = titanic[titanic['pclass'] == 2]['age'].median()\n",
    "med3 = titanic[titanic['pclass'] == 3]['age'].median()"
   ]
  },
  {
   "cell_type": "code",
   "execution_count": 366,
   "id": "6e583b02",
   "metadata": {},
   "outputs": [
    {
     "name": "stdout",
     "output_type": "stream",
     "text": [
      "37.0\n",
      "29.0\n",
      "24.0\n"
     ]
    }
   ],
   "source": [
    "print(med1)\n",
    "print(med2)\n",
    "print(med3)"
   ]
  },
  {
   "cell_type": "markdown",
   "id": "7b1db611",
   "metadata": {},
   "source": [
    "When calculating the actual means of each we see that Class 1 median age is 37, Class 2 is 29, and Class 3 is 24. "
   ]
  },
  {
   "cell_type": "markdown",
   "id": "51767cc0",
   "metadata": {},
   "source": [
    "## Part 2\n",
    "Since there are so many missingvaluesin Cabin, get rid of the cabin feature. Define a function to impute age using the median of the passenger class you computed earlier. To call it, use train[[‘age’, pclass]].apply(impute_age,axis=1). Drop the remaining records containing null values. Show there are no remaining null values. Convert categorical variables to numeric dummies using pandas’ get_dummies() method. Add these to your training dataframe. Drop the categorical columns you converted earlier aswell asname, ticket, and passengerId. Create a feature set by dropping “Survived.” Your resulting feature set should include pclass, age, sibsp, parch, fare, and thecategorical dummy columns you created earlier. Implement a label dataframebycopying the contents of the Survived column of your training set to a newdataframe. Split your clean data into a training and test set."
   ]
  },
  {
   "cell_type": "code",
   "execution_count": 367,
   "id": "c670fc43",
   "metadata": {},
   "outputs": [
    {
     "data": {
      "text/html": [
       "<div>\n",
       "<style scoped>\n",
       "    .dataframe tbody tr th:only-of-type {\n",
       "        vertical-align: middle;\n",
       "    }\n",
       "\n",
       "    .dataframe tbody tr th {\n",
       "        vertical-align: top;\n",
       "    }\n",
       "\n",
       "    .dataframe thead th {\n",
       "        text-align: right;\n",
       "    }\n",
       "</style>\n",
       "<table border=\"1\" class=\"dataframe\">\n",
       "  <thead>\n",
       "    <tr style=\"text-align: right;\">\n",
       "      <th></th>\n",
       "      <th>survived</th>\n",
       "      <th>pclass</th>\n",
       "      <th>sex</th>\n",
       "      <th>age</th>\n",
       "      <th>sibsp</th>\n",
       "      <th>parch</th>\n",
       "      <th>fare</th>\n",
       "      <th>embarked</th>\n",
       "      <th>class</th>\n",
       "      <th>who</th>\n",
       "      <th>adult_male</th>\n",
       "      <th>deck</th>\n",
       "      <th>embark_town</th>\n",
       "      <th>alive</th>\n",
       "      <th>alone</th>\n",
       "      <th>fare_bin</th>\n",
       "    </tr>\n",
       "  </thead>\n",
       "  <tbody>\n",
       "    <tr>\n",
       "      <th>0</th>\n",
       "      <td>0</td>\n",
       "      <td>3</td>\n",
       "      <td>male</td>\n",
       "      <td>22.0</td>\n",
       "      <td>1</td>\n",
       "      <td>0</td>\n",
       "      <td>7.2500</td>\n",
       "      <td>S</td>\n",
       "      <td>Third</td>\n",
       "      <td>man</td>\n",
       "      <td>1</td>\n",
       "      <td>NaN</td>\n",
       "      <td>Southampton</td>\n",
       "      <td>0</td>\n",
       "      <td>0</td>\n",
       "      <td>(-0.001, 7.91]</td>\n",
       "    </tr>\n",
       "    <tr>\n",
       "      <th>1</th>\n",
       "      <td>1</td>\n",
       "      <td>1</td>\n",
       "      <td>female</td>\n",
       "      <td>38.0</td>\n",
       "      <td>1</td>\n",
       "      <td>0</td>\n",
       "      <td>71.2833</td>\n",
       "      <td>C</td>\n",
       "      <td>First</td>\n",
       "      <td>woman</td>\n",
       "      <td>0</td>\n",
       "      <td>C</td>\n",
       "      <td>Cherbourg</td>\n",
       "      <td>1</td>\n",
       "      <td>0</td>\n",
       "      <td>(31.0, 512.329]</td>\n",
       "    </tr>\n",
       "    <tr>\n",
       "      <th>2</th>\n",
       "      <td>1</td>\n",
       "      <td>3</td>\n",
       "      <td>female</td>\n",
       "      <td>26.0</td>\n",
       "      <td>0</td>\n",
       "      <td>0</td>\n",
       "      <td>7.9250</td>\n",
       "      <td>S</td>\n",
       "      <td>Third</td>\n",
       "      <td>woman</td>\n",
       "      <td>0</td>\n",
       "      <td>NaN</td>\n",
       "      <td>Southampton</td>\n",
       "      <td>1</td>\n",
       "      <td>1</td>\n",
       "      <td>(7.91, 14.454]</td>\n",
       "    </tr>\n",
       "    <tr>\n",
       "      <th>3</th>\n",
       "      <td>1</td>\n",
       "      <td>1</td>\n",
       "      <td>female</td>\n",
       "      <td>35.0</td>\n",
       "      <td>1</td>\n",
       "      <td>0</td>\n",
       "      <td>53.1000</td>\n",
       "      <td>S</td>\n",
       "      <td>First</td>\n",
       "      <td>woman</td>\n",
       "      <td>0</td>\n",
       "      <td>C</td>\n",
       "      <td>Southampton</td>\n",
       "      <td>1</td>\n",
       "      <td>0</td>\n",
       "      <td>(31.0, 512.329]</td>\n",
       "    </tr>\n",
       "    <tr>\n",
       "      <th>4</th>\n",
       "      <td>0</td>\n",
       "      <td>3</td>\n",
       "      <td>male</td>\n",
       "      <td>35.0</td>\n",
       "      <td>0</td>\n",
       "      <td>0</td>\n",
       "      <td>8.0500</td>\n",
       "      <td>S</td>\n",
       "      <td>Third</td>\n",
       "      <td>man</td>\n",
       "      <td>1</td>\n",
       "      <td>NaN</td>\n",
       "      <td>Southampton</td>\n",
       "      <td>0</td>\n",
       "      <td>1</td>\n",
       "      <td>(7.91, 14.454]</td>\n",
       "    </tr>\n",
       "  </tbody>\n",
       "</table>\n",
       "</div>"
      ],
      "text/plain": [
       "   survived  pclass     sex   age  sibsp  parch     fare embarked  class  \\\n",
       "0         0       3    male  22.0      1      0   7.2500        S  Third   \n",
       "1         1       1  female  38.0      1      0  71.2833        C  First   \n",
       "2         1       3  female  26.0      0      0   7.9250        S  Third   \n",
       "3         1       1  female  35.0      1      0  53.1000        S  First   \n",
       "4         0       3    male  35.0      0      0   8.0500        S  Third   \n",
       "\n",
       "     who  adult_male deck  embark_town  alive  alone         fare_bin  \n",
       "0    man           1  NaN  Southampton      0      0   (-0.001, 7.91]  \n",
       "1  woman           0    C    Cherbourg      1      0  (31.0, 512.329]  \n",
       "2  woman           0  NaN  Southampton      1      1   (7.91, 14.454]  \n",
       "3  woman           0    C  Southampton      1      0  (31.0, 512.329]  \n",
       "4    man           1  NaN  Southampton      0      1   (7.91, 14.454]  "
      ]
     },
     "execution_count": 367,
     "metadata": {},
     "output_type": "execute_result"
    }
   ],
   "source": [
    "titanic.head(5)"
   ]
  },
  {
   "cell_type": "code",
   "execution_count": 368,
   "id": "96dd3612",
   "metadata": {
    "scrolled": true
   },
   "outputs": [],
   "source": [
    "# Dropping column deck feature, and other non-necessary features\n",
    "titanic.drop(columns=['deck', 'alive', 'fare_bin', 'who'], inplace =True)"
   ]
  },
  {
   "cell_type": "code",
   "execution_count": 369,
   "id": "d979f8f8",
   "metadata": {},
   "outputs": [],
   "source": [
    "def impute_age(x):\n",
    "    \"\"\"Uses median age of pclass to fix the null values in the age attribute\"\"\"\n",
    "    if x['pclass'] == 1:\n",
    "        if math.isnan(x['age']):\n",
    "            return med1\n",
    "        else:\n",
    "            return x['age']\n",
    "    elif x['pclass'] == 2:\n",
    "        if math.isnan(x['age']):\n",
    "            return med2\n",
    "        else:\n",
    "            return x['age']\n",
    "    elif x['pclass'] == 3:\n",
    "        if math.isnan(x['age']):\n",
    "            return med3\n",
    "        else:\n",
    "            return x['age']\n",
    "    \n",
    "titanic['age'] = titanic[['age','pclass']].apply(impute_age,axis=1)"
   ]
  },
  {
   "cell_type": "code",
   "execution_count": 370,
   "id": "7302b443",
   "metadata": {},
   "outputs": [
    {
     "data": {
      "text/plain": [
       "survived       0\n",
       "pclass         0\n",
       "sex            0\n",
       "age            0\n",
       "sibsp          0\n",
       "parch          0\n",
       "fare           0\n",
       "embarked       2\n",
       "class          0\n",
       "adult_male     0\n",
       "embark_town    2\n",
       "alone          0\n",
       "dtype: int64"
      ]
     },
     "execution_count": 370,
     "metadata": {},
     "output_type": "execute_result"
    }
   ],
   "source": [
    "titanic.isnull().sum()"
   ]
  },
  {
   "cell_type": "code",
   "execution_count": 371,
   "id": "f7b739d5",
   "metadata": {},
   "outputs": [],
   "source": [
    "# Drop the remaining records the are missing.\n",
    "titanic.dropna(inplace = True)"
   ]
  },
  {
   "cell_type": "code",
   "execution_count": 372,
   "id": "c756935e",
   "metadata": {},
   "outputs": [
    {
     "data": {
      "text/plain": [
       "survived       0\n",
       "pclass         0\n",
       "sex            0\n",
       "age            0\n",
       "sibsp          0\n",
       "parch          0\n",
       "fare           0\n",
       "embarked       0\n",
       "class          0\n",
       "adult_male     0\n",
       "embark_town    0\n",
       "alone          0\n",
       "dtype: int64"
      ]
     },
     "execution_count": 372,
     "metadata": {},
     "output_type": "execute_result"
    }
   ],
   "source": [
    "titanic.isnull().sum()"
   ]
  },
  {
   "cell_type": "markdown",
   "id": "7a319c37",
   "metadata": {},
   "source": [
    "##### Convert Categorical Variables to Dummy Variables\n",
    "\n",
    "Creating a dummy for pclass as well since we are dealing with Class 1, Class 2, and Class 3. Each class could be important in determining whether a passenger lives or dies. "
   ]
  },
  {
   "cell_type": "code",
   "execution_count": 373,
   "id": "4bd7a721",
   "metadata": {},
   "outputs": [],
   "source": [
    "for col in ['pclass', 'sex', 'embarked', 'class', 'embark_town']:\n",
    "    temp = pd.get_dummies(titanic[col],prefix=col, prefix_sep='')\n",
    "    titanic= pd.concat([titanic, temp], axis=1)\n",
    "titanic.rename(columns={1: '1', 2:'2', 3:'3'}, inplace = True)"
   ]
  },
  {
   "cell_type": "code",
   "execution_count": 374,
   "id": "3a3767ac",
   "metadata": {},
   "outputs": [
    {
     "data": {
      "text/html": [
       "<div>\n",
       "<style scoped>\n",
       "    .dataframe tbody tr th:only-of-type {\n",
       "        vertical-align: middle;\n",
       "    }\n",
       "\n",
       "    .dataframe tbody tr th {\n",
       "        vertical-align: top;\n",
       "    }\n",
       "\n",
       "    .dataframe thead th {\n",
       "        text-align: right;\n",
       "    }\n",
       "</style>\n",
       "<table border=\"1\" class=\"dataframe\">\n",
       "  <thead>\n",
       "    <tr style=\"text-align: right;\">\n",
       "      <th></th>\n",
       "      <th>survived</th>\n",
       "      <th>pclass</th>\n",
       "      <th>sex</th>\n",
       "      <th>age</th>\n",
       "      <th>sibsp</th>\n",
       "      <th>parch</th>\n",
       "      <th>fare</th>\n",
       "      <th>embarked</th>\n",
       "      <th>class</th>\n",
       "      <th>adult_male</th>\n",
       "      <th>...</th>\n",
       "      <th>sexmale</th>\n",
       "      <th>embarkedC</th>\n",
       "      <th>embarkedQ</th>\n",
       "      <th>embarkedS</th>\n",
       "      <th>classFirst</th>\n",
       "      <th>classSecond</th>\n",
       "      <th>classThird</th>\n",
       "      <th>embark_townCherbourg</th>\n",
       "      <th>embark_townQueenstown</th>\n",
       "      <th>embark_townSouthampton</th>\n",
       "    </tr>\n",
       "  </thead>\n",
       "  <tbody>\n",
       "    <tr>\n",
       "      <th>0</th>\n",
       "      <td>0</td>\n",
       "      <td>3</td>\n",
       "      <td>male</td>\n",
       "      <td>22.0</td>\n",
       "      <td>1</td>\n",
       "      <td>0</td>\n",
       "      <td>7.2500</td>\n",
       "      <td>S</td>\n",
       "      <td>Third</td>\n",
       "      <td>1</td>\n",
       "      <td>...</td>\n",
       "      <td>1</td>\n",
       "      <td>0</td>\n",
       "      <td>0</td>\n",
       "      <td>1</td>\n",
       "      <td>0</td>\n",
       "      <td>0</td>\n",
       "      <td>1</td>\n",
       "      <td>0</td>\n",
       "      <td>0</td>\n",
       "      <td>1</td>\n",
       "    </tr>\n",
       "    <tr>\n",
       "      <th>1</th>\n",
       "      <td>1</td>\n",
       "      <td>1</td>\n",
       "      <td>female</td>\n",
       "      <td>38.0</td>\n",
       "      <td>1</td>\n",
       "      <td>0</td>\n",
       "      <td>71.2833</td>\n",
       "      <td>C</td>\n",
       "      <td>First</td>\n",
       "      <td>0</td>\n",
       "      <td>...</td>\n",
       "      <td>0</td>\n",
       "      <td>1</td>\n",
       "      <td>0</td>\n",
       "      <td>0</td>\n",
       "      <td>1</td>\n",
       "      <td>0</td>\n",
       "      <td>0</td>\n",
       "      <td>1</td>\n",
       "      <td>0</td>\n",
       "      <td>0</td>\n",
       "    </tr>\n",
       "    <tr>\n",
       "      <th>2</th>\n",
       "      <td>1</td>\n",
       "      <td>3</td>\n",
       "      <td>female</td>\n",
       "      <td>26.0</td>\n",
       "      <td>0</td>\n",
       "      <td>0</td>\n",
       "      <td>7.9250</td>\n",
       "      <td>S</td>\n",
       "      <td>Third</td>\n",
       "      <td>0</td>\n",
       "      <td>...</td>\n",
       "      <td>0</td>\n",
       "      <td>0</td>\n",
       "      <td>0</td>\n",
       "      <td>1</td>\n",
       "      <td>0</td>\n",
       "      <td>0</td>\n",
       "      <td>1</td>\n",
       "      <td>0</td>\n",
       "      <td>0</td>\n",
       "      <td>1</td>\n",
       "    </tr>\n",
       "    <tr>\n",
       "      <th>3</th>\n",
       "      <td>1</td>\n",
       "      <td>1</td>\n",
       "      <td>female</td>\n",
       "      <td>35.0</td>\n",
       "      <td>1</td>\n",
       "      <td>0</td>\n",
       "      <td>53.1000</td>\n",
       "      <td>S</td>\n",
       "      <td>First</td>\n",
       "      <td>0</td>\n",
       "      <td>...</td>\n",
       "      <td>0</td>\n",
       "      <td>0</td>\n",
       "      <td>0</td>\n",
       "      <td>1</td>\n",
       "      <td>1</td>\n",
       "      <td>0</td>\n",
       "      <td>0</td>\n",
       "      <td>0</td>\n",
       "      <td>0</td>\n",
       "      <td>1</td>\n",
       "    </tr>\n",
       "    <tr>\n",
       "      <th>4</th>\n",
       "      <td>0</td>\n",
       "      <td>3</td>\n",
       "      <td>male</td>\n",
       "      <td>35.0</td>\n",
       "      <td>0</td>\n",
       "      <td>0</td>\n",
       "      <td>8.0500</td>\n",
       "      <td>S</td>\n",
       "      <td>Third</td>\n",
       "      <td>1</td>\n",
       "      <td>...</td>\n",
       "      <td>1</td>\n",
       "      <td>0</td>\n",
       "      <td>0</td>\n",
       "      <td>1</td>\n",
       "      <td>0</td>\n",
       "      <td>0</td>\n",
       "      <td>1</td>\n",
       "      <td>0</td>\n",
       "      <td>0</td>\n",
       "      <td>1</td>\n",
       "    </tr>\n",
       "  </tbody>\n",
       "</table>\n",
       "<p>5 rows × 26 columns</p>\n",
       "</div>"
      ],
      "text/plain": [
       "   survived  pclass     sex   age  sibsp  parch     fare embarked  class  \\\n",
       "0         0       3    male  22.0      1      0   7.2500        S  Third   \n",
       "1         1       1  female  38.0      1      0  71.2833        C  First   \n",
       "2         1       3  female  26.0      0      0   7.9250        S  Third   \n",
       "3         1       1  female  35.0      1      0  53.1000        S  First   \n",
       "4         0       3    male  35.0      0      0   8.0500        S  Third   \n",
       "\n",
       "   adult_male  ... sexmale  embarkedC  embarkedQ  embarkedS  classFirst  \\\n",
       "0           1  ...       1          0          0          1           0   \n",
       "1           0  ...       0          1          0          0           1   \n",
       "2           0  ...       0          0          0          1           0   \n",
       "3           0  ...       0          0          0          1           1   \n",
       "4           1  ...       1          0          0          1           0   \n",
       "\n",
       "   classSecond  classThird  embark_townCherbourg  embark_townQueenstown  \\\n",
       "0            0           1                     0                      0   \n",
       "1            0           0                     1                      0   \n",
       "2            0           1                     0                      0   \n",
       "3            0           0                     0                      0   \n",
       "4            0           1                     0                      0   \n",
       "\n",
       "   embark_townSouthampton  \n",
       "0                       1  \n",
       "1                       0  \n",
       "2                       1  \n",
       "3                       1  \n",
       "4                       1  \n",
       "\n",
       "[5 rows x 26 columns]"
      ]
     },
     "execution_count": 374,
     "metadata": {},
     "output_type": "execute_result"
    }
   ],
   "source": [
    "titanic.head(5)"
   ]
  },
  {
   "cell_type": "code",
   "execution_count": 375,
   "id": "d5c8d982",
   "metadata": {},
   "outputs": [
    {
     "data": {
      "text/plain": [
       "Index(['survived', 'pclass', 'sex', 'age', 'sibsp', 'parch', 'fare',\n",
       "       'embarked', 'class', 'adult_male', 'embark_town', 'alone', 'pclass1',\n",
       "       'pclass2', 'pclass3', 'sexfemale', 'sexmale', 'embarkedC', 'embarkedQ',\n",
       "       'embarkedS', 'classFirst', 'classSecond', 'classThird',\n",
       "       'embark_townCherbourg', 'embark_townQueenstown',\n",
       "       'embark_townSouthampton'],\n",
       "      dtype='object')"
      ]
     },
     "execution_count": 375,
     "metadata": {},
     "output_type": "execute_result"
    }
   ],
   "source": [
    "titanic.columns"
   ]
  },
  {
   "cell_type": "code",
   "execution_count": 376,
   "id": "3a486a47",
   "metadata": {},
   "outputs": [],
   "source": [
    "# dropping name essential columns\n",
    "titanic.drop(columns = ['pclass', 'sex', 'embarked', 'class', 'embark_town'], inplace = True)"
   ]
  },
  {
   "cell_type": "code",
   "execution_count": 377,
   "id": "38076483",
   "metadata": {},
   "outputs": [],
   "source": [
    "# copying dataframe to a new dataframe\n",
    "titanicdf = titanic.copy()"
   ]
  },
  {
   "cell_type": "markdown",
   "id": "514dc12d",
   "metadata": {},
   "source": [
    "##### Creating Train and Test Sets"
   ]
  },
  {
   "cell_type": "code",
   "execution_count": 378,
   "id": "74bc35ae",
   "metadata": {},
   "outputs": [],
   "source": [
    "#Sruvived column will be the target column. Doing a 70/30 split\n",
    "from sklearn.model_selection import train_test_split\n",
    "y = titanicdf['survived']\n",
    "X = titanicdf.drop('survived', axis = 1)\n",
    "X_train, X_test, y_train, y_test = train_test_split(X, y, test_size=0.3, random_state=42)"
   ]
  },
  {
   "cell_type": "markdown",
   "id": "3d52b20c",
   "metadata": {},
   "source": [
    "## Part 3 Model Training\n",
    "\n",
    "Implement a logistic regression model. Implement a support vector classifier. Implement an sgd classifier. Print out theclassification reports, confusion matrices, and roc score and chart for each of these. Remember to set Probability=True for SVM and use method=decision_function in a cross_val_predict instead of predict_probafor theSGD ROC plot."
   ]
  },
  {
   "cell_type": "code",
   "execution_count": 379,
   "id": "223f0ffa",
   "metadata": {},
   "outputs": [],
   "source": [
    "from sklearn.svm import SVC\n",
    "from sklearn.linear_model import LogisticRegression\n",
    "from sklearn.linear_model import SGDClassifier\n",
    "from sklearn.metrics import classification_report \n",
    "from sklearn.metrics import confusion_matrix \n",
    "from sklearn.metrics import roc_auc_score\n",
    "from sklearn.metrics import plot_roc_curve"
   ]
  },
  {
   "cell_type": "markdown",
   "id": "71af8f29",
   "metadata": {},
   "source": [
    "##### Logistist Regression Model"
   ]
  },
  {
   "cell_type": "code",
   "execution_count": 380,
   "id": "52aa9832",
   "metadata": {},
   "outputs": [
    {
     "name": "stdout",
     "output_type": "stream",
     "text": [
      "              precision    recall  f1-score   support\n",
      "\n",
      "           0       0.84      0.87      0.86       167\n",
      "           1       0.78      0.73      0.75       100\n",
      "\n",
      "    accuracy                           0.82       267\n",
      "   macro avg       0.81      0.80      0.81       267\n",
      "weighted avg       0.82      0.82      0.82       267\n",
      "\n",
      "[[146  21]\n",
      " [ 27  73]]\n",
      "0.802125748502994\n"
     ]
    }
   ],
   "source": [
    "lgm = LogisticRegression(max_iter=500)\n",
    "lgm.fit(X_train, y_train)\n",
    "lgm_preds = lgm.predict(X_test)\n",
    "print(classification_report(y_test, lgm_preds))\n",
    "print(confusion_matrix(y_test, lgm_preds))\n",
    "print(roc_auc_score(y_test, lgm_preds))\n"
   ]
  },
  {
   "cell_type": "code",
   "execution_count": 381,
   "id": "fa767c12",
   "metadata": {},
   "outputs": [
    {
     "name": "stderr",
     "output_type": "stream",
     "text": [
      "C:\\Users\\15599\\Anaconda\\lib\\site-packages\\sklearn\\utils\\deprecation.py:87: FutureWarning: Function plot_roc_curve is deprecated; Function :func:`plot_roc_curve` is deprecated in 1.0 and will be removed in 1.2. Use one of the class methods: :meth:`sklearn.metric.RocCurveDisplay.from_predictions` or :meth:`sklearn.metric.RocCurveDisplay.from_estimator`.\n",
      "  warnings.warn(msg, category=FutureWarning)\n"
     ]
    },
    {
     "data": {
      "image/png": "[encoded data removed]",
      "text/plain": [
       "<Figure size 432x288 with 1 Axes>"
      ]
     },
     "metadata": {
      "needs_background": "light"
     },
     "output_type": "display_data"
    }
   ],
   "source": [
    "plot_roc_curve(lgm, X_train, y_train)\n",
    "plt.title(\"ROC Curve - Logistic Regression\")\n",
    "plt.show()"
   ]
  },
  {
   "cell_type": "markdown",
   "id": "fff1f02c",
   "metadata": {},
   "source": [
    "##### SGDClassifier"
   ]
  },
  {
   "cell_type": "code",
   "execution_count": 382,
   "id": "3bd9c80f",
   "metadata": {},
   "outputs": [
    {
     "name": "stdout",
     "output_type": "stream",
     "text": [
      "              precision    recall  f1-score   support\n",
      "\n",
      "           0       0.76      0.81      0.79       167\n",
      "           1       0.65      0.58      0.61       100\n",
      "\n",
      "    accuracy                           0.73       267\n",
      "   macro avg       0.71      0.70      0.70       267\n",
      "weighted avg       0.72      0.73      0.72       267\n",
      "\n",
      "[[136  31]\n",
      " [ 42  58]]\n",
      "0.697185628742515\n"
     ]
    }
   ],
   "source": [
    "sgd = SGDClassifier()\n",
    "sgd.fit(X_train, y_train)\n",
    "sgd_preds = sgd.predict(X_test)\n",
    "print(classification_report(y_test, sgd_preds))\n",
    "print(confusion_matrix(y_test, sgd_preds))\n",
    "print(roc_auc_score(y_test, sgd_preds))"
   ]
  },
  {
   "cell_type": "code",
   "execution_count": 383,
   "id": "c0f2456b",
   "metadata": {},
   "outputs": [
    {
     "name": "stderr",
     "output_type": "stream",
     "text": [
      "C:\\Users\\15599\\Anaconda\\lib\\site-packages\\sklearn\\utils\\deprecation.py:87: FutureWarning: Function plot_roc_curve is deprecated; Function :func:`plot_roc_curve` is deprecated in 1.0 and will be removed in 1.2. Use one of the class methods: :meth:`sklearn.metric.RocCurveDisplay.from_predictions` or :meth:`sklearn.metric.RocCurveDisplay.from_estimator`.\n",
      "  warnings.warn(msg, category=FutureWarning)\n"
     ]
    },
    {
     "data": {
      "image/png": "[encoded data removed]",
      "text/plain": [
       "<Figure size 432x288 with 1 Axes>"
      ]
     },
     "metadata": {
      "needs_background": "light"
     },
     "output_type": "display_data"
    }
   ],
   "source": [
    "plot_roc_curve(sgd, X_train, y_train, response_method='decision_function')\n",
    "plt.ylabel('True Positive Rate')\n",
    "plt.xlabel('False Positive Rate')\n",
    "plt.title(\"ROC Curve - SGDClassifier\")\n",
    "plt.show()"
   ]
  },
  {
   "cell_type": "markdown",
   "id": "ac2cc4c4",
   "metadata": {},
   "source": [
    "##### SVC Model "
   ]
  },
  {
   "cell_type": "code",
   "execution_count": 384,
   "id": "c2890359",
   "metadata": {},
   "outputs": [
    {
     "name": "stdout",
     "output_type": "stream",
     "text": [
      "              precision    recall  f1-score   support\n",
      "\n",
      "           0       0.76      0.81      0.79       167\n",
      "           1       0.65      0.58      0.61       100\n",
      "\n",
      "    accuracy                           0.73       267\n",
      "   macro avg       0.71      0.70      0.70       267\n",
      "weighted avg       0.72      0.73      0.72       267\n",
      "\n",
      "[[136  31]\n",
      " [ 42  58]]\n",
      "0.697185628742515\n"
     ]
    }
   ],
   "source": [
    "svc = SVC(probability = True)\n",
    "svc.fit(X_train, y_train)\n",
    "svc_preds = sgd.predict(X_test)\n",
    "print(classification_report(y_test, svc_preds))\n",
    "print(confusion_matrix(y_test, svc_preds))\n",
    "print(roc_auc_score(y_test, svc_preds))"
   ]
  },
  {
   "cell_type": "code",
   "execution_count": 385,
   "id": "b938695b",
   "metadata": {},
   "outputs": [
    {
     "name": "stderr",
     "output_type": "stream",
     "text": [
      "C:\\Users\\15599\\Anaconda\\lib\\site-packages\\sklearn\\utils\\deprecation.py:87: FutureWarning: Function plot_roc_curve is deprecated; Function :func:`plot_roc_curve` is deprecated in 1.0 and will be removed in 1.2. Use one of the class methods: :meth:`sklearn.metric.RocCurveDisplay.from_predictions` or :meth:`sklearn.metric.RocCurveDisplay.from_estimator`.\n",
      "  warnings.warn(msg, category=FutureWarning)\n"
     ]
    },
    {
     "data": {
      "image/png": "[encoded data removed]",
      "text/plain": [
       "<Figure size 432x288 with 1 Axes>"
      ]
     },
     "metadata": {
      "needs_background": "light"
     },
     "output_type": "display_data"
    }
   ],
   "source": [
    "plot_roc_curve(svc, X_train, y_train)\n",
    "plt.ylabel('True Positive Rate')\n",
    "plt.xlabel('False Positive Rate')\n",
    "plt.title(\"ROC Curve - SVC\")\n",
    "plt.show()"
   ]
  },
  {
   "cell_type": "markdown",
   "id": "6dc6645a",
   "metadata": {},
   "source": [
    "## Part 4 Model Tuning\n",
    "* See if scaling your input data affects your SVC model (implement a sklearn pipeline to combine scaling and instantiation of your model). \n",
    "* Do a grid search of your pipeline classifier using the following parameter grid: {‘<your_svc_model_name>__kernel’: [‘rbf’], ‘<your_svc_model_name> __gamma’: [0.0001, 0.001, 0.01, 0.1, 1], ‘{‘<your_svc_model_name>__C’: [1,10,50,100,200,300]}. \n",
    "* Print the best estimator, its parameters, and the resulting score. Apply this estimator to your test set\n",
    "* Implement a learning curve using your best estimator fromthe gridsearch. \n",
    "    * The figure should have a title of “learning curve.” \n",
    "     * Label the y-axis with “Score.” \n",
    "     * Label the x-axis with “Training Examples.” \n",
    "     * Make the training score red. \n",
    "     * Make the validation score green. \n",
    "     * What does this learning curve tell you?\n"
   ]
  },
  {
   "cell_type": "code",
   "execution_count": 386,
   "id": "f3edc2ea",
   "metadata": {},
   "outputs": [],
   "source": [
    "#Scaling the continuous variables utlizing the min_max scaling since we are working with 0 and 1 in majority of our categorical variables\n",
    "from sklearn.pipeline import Pipeline\n",
    "from sklearn.preprocessing import MinMaxScaler\n",
    "from sklearn.model_selection import GridSearchCV"
   ]
  },
  {
   "cell_type": "code",
   "execution_count": 387,
   "id": "6ad136d6",
   "metadata": {},
   "outputs": [
    {
     "data": {
      "text/plain": [
       "[('minmax', MinMaxScaler()), ('svc', SVC(probability=True))]"
      ]
     },
     "execution_count": 387,
     "metadata": {},
     "output_type": "execute_result"
    }
   ],
   "source": [
    "pipe = Pipeline([('minmax', MinMaxScaler()), ('svc', SVC(probability = True))])\n",
    "pipe.steps"
   ]
  },
  {
   "cell_type": "code",
   "execution_count": 388,
   "id": "416600d2",
   "metadata": {
    "scrolled": true
   },
   "outputs": [
    {
     "data": {
      "text/plain": [
       "GridSearchCV(estimator=Pipeline(steps=[('minmax', MinMaxScaler()),\n",
       "                                       ('svc', SVC(probability=True))]),\n",
       "             param_grid={'svc__C': [1, 10, 50, 100, 200, 300],\n",
       "                         'svc__gamma': [0.0001, 0.001, 0.01, 0.1, 1],\n",
       "                         'svc__kernel': ['rbf']},\n",
       "             scoring='roc_auc')"
      ]
     },
     "execution_count": 388,
     "metadata": {},
     "output_type": "execute_result"
    }
   ],
   "source": [
    "new_params = {'svc__kernel':['rbf'], 'svc__gamma':[0.0001, 0.001, 0.01, 0.1, 1], 'svc__C':[1,10,50,100,200,300]}\n",
    "grid_svc = GridSearchCV(estimator = pipe, param_grid = new_params, scoring=\"roc_auc\")\n",
    "grid_svc.fit(X_train, y_train)"
   ]
  },
  {
   "cell_type": "code",
   "execution_count": 389,
   "id": "2fb00660",
   "metadata": {},
   "outputs": [
    {
     "name": "stdout",
     "output_type": "stream",
     "text": [
      "Pipeline SVC best estimator:\n",
      "Pipeline(steps=[('minmax', MinMaxScaler()),\n",
      "                ('svc', SVC(C=10, gamma=1, probability=True))])\n",
      "\n",
      "Pipeline SVC best params:\n",
      "{'svc__C': 10, 'svc__gamma': 1, 'svc__kernel': 'rbf'}\n",
      "\n",
      "Pipeline SVC best auc score:\n",
      "0.8494937628161312\n"
     ]
    }
   ],
   "source": [
    "print('Pipeline SVC best estimator:')\n",
    "print(grid_svc.best_estimator_)\n",
    "print()\n",
    "print('Pipeline SVC best params:')\n",
    "print(grid_svc.best_params_)\n",
    "print()\n",
    "print('Pipeline SVC best auc score:')\n",
    "print(grid_svc.best_score_)"
   ]
  },
  {
   "cell_type": "markdown",
   "id": "83f55606",
   "metadata": {},
   "source": [
    "##### Applying the estimator to our test set and utilizing the pipeline"
   ]
  },
  {
   "cell_type": "code",
   "execution_count": 390,
   "id": "b3181112",
   "metadata": {},
   "outputs": [
    {
     "name": "stdout",
     "output_type": "stream",
     "text": [
      "              precision    recall  f1-score   support\n",
      "\n",
      "           0       0.81      0.92      0.86       167\n",
      "           1       0.83      0.64      0.72       100\n",
      "\n",
      "    accuracy                           0.82       267\n",
      "   macro avg       0.82      0.78      0.79       267\n",
      "weighted avg       0.82      0.82      0.81       267\n",
      "\n",
      "[[154  13]\n",
      " [ 36  64]]\n",
      "0.7810778443113773\n"
     ]
    }
   ],
   "source": [
    "pipe = grid_svc.best_estimator_\n",
    "pipe.fit(X_train, y_train)\n",
    "pipe_test = pipe.predict(X_test)\n",
    "\n",
    "print(classification_report(y_test, pipe_test))\n",
    "print(confusion_matrix(y_test, pipe_test))\n",
    "print(roc_auc_score(y_test, pipe_test))"
   ]
  },
  {
   "cell_type": "markdown",
   "id": "b2703126",
   "metadata": {},
   "source": [
    "Looking at the new ROC AUC score it did increase with the new parameters from 0.6995 to 0.7810, indicating the new SVC model is better. The precision and recall score increased as well. "
   ]
  },
  {
   "cell_type": "markdown",
   "id": "5dec1565",
   "metadata": {},
   "source": [
    "##### Implementing a learning curve from the best estimator of SVC model found from GridSearch"
   ]
  },
  {
   "cell_type": "code",
   "execution_count": 391,
   "id": "190cad4c",
   "metadata": {},
   "outputs": [],
   "source": [
    "from sklearn.model_selection import learning_curve\n",
    "train_sizes, train_scores_svr, validation_scores_svr = learning_curve(pipe, X_train, y_train, scoring = 'roc_auc')\n"
   ]
  },
  {
   "cell_type": "code",
   "execution_count": 392,
   "id": "0f2e9ac6",
   "metadata": {},
   "outputs": [
    {
     "data": {
      "image/png": "[encoded data removed]",
      "text/plain": [
       "<Figure size 432x288 with 1 Axes>"
      ]
     },
     "metadata": {
      "needs_background": "light"
     },
     "output_type": "display_data"
    }
   ],
   "source": [
    "plt.plot(train_sizes, train_scores_svr.mean(1), \"o--\", color = 'red', label = 'Train')\n",
    "plt.plot(train_sizes, validation_scores_svr.mean(1), \"o--\", color = 'green', label = 'Validation')\n",
    "plt.title('learning curve')\n",
    "plt.ylabel('Score')\n",
    "plt.xlabel('Training Examples')\n",
    "plt.show()"
   ]
  },
  {
   "cell_type": "markdown",
   "id": "6706b159",
   "metadata": {},
   "source": [
    "##### What does this learning curve tell you?\n",
    "\n",
    "When looking at the graph we see that the training and the validation curve are starting to converge at the best ROC AUC Score. As we train the model more, we will be able to remove more of the variance and select the best parameters, resulting in the two lines getting closer to meeting as a point ultimately selecting the best model. "
   ]
  }
 ],
 "metadata": {
  "kernelspec": {
   "display_name": "Python 3 (ipykernel)",
   "language": "python",
   "name": "python3"
  },
  "language_info": {
   "codemirror_mode": {
    "name": "ipython",
    "version": 3
   },
   "file_extension": ".py",
   "mimetype": "text/x-python",
   "name": "python",
   "nbconvert_exporter": "python",
   "pygments_lexer": "ipython3",
   "version": "3.9.12"
  }
 },
 "nbformat": 4,
 "nbformat_minor": 5
}
