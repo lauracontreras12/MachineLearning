{
 "cells": [
  {
   "cell_type": "markdown",
   "id": "e3a71901",
   "metadata": {},
   "source": [
    "# Assignment 1\n",
    "## Laura Contreras"
   ]
  },
  {
   "cell_type": "code",
   "execution_count": 382,
   "id": "48f05b8a",
   "metadata": {},
   "outputs": [],
   "source": [
    "import pandas as pd\n",
    "import numpy as np\n",
    "import matplotlib.pyplot as plt"
   ]
  },
  {
   "cell_type": "markdown",
   "id": "51299481",
   "metadata": {},
   "source": [
    "## Part 1 Loading in diabetes dataset\n",
    "\n",
    "Data Loading and Preparation. Load the diabetes dataset into two numpy arrays: one for the feature set and one for the target. Pick asingle feature to try to predict the target (disease progression). Document thereason you chose the feature you did. Break your single feature and target setsinto training and test sets with the last 20 rows being in the test set."
   ]
  },
  {
   "cell_type": "code",
   "execution_count": 1,
   "id": "5f2bac25",
   "metadata": {},
   "outputs": [],
   "source": [
    "from sklearn.datasets import load_diabetes"
   ]
  },
  {
   "cell_type": "code",
   "execution_count": 2,
   "id": "30738401",
   "metadata": {},
   "outputs": [
    {
     "name": "stdout",
     "output_type": "stream",
     "text": [
      ".. _diabetes_dataset:\n",
      "\n",
      "Diabetes dataset\n",
      "----------------\n",
      "\n",
      "Ten baseline variables, age, sex, body mass index, average blood\n",
      "pressure, and six blood serum measurements were obtained for each of n =\n",
      "442 diabetes patients, as well as the response of interest, a\n",
      "quantitative measure of disease progression one year after baseline.\n",
      "\n",
      "**Data Set Characteristics:**\n",
      "\n",
      "  :Number of Instances: 442\n",
      "\n",
      "  :Number of Attributes: First 10 columns are numeric predictive values\n",
      "\n",
      "  :Target: Column 11 is a quantitative measure of disease progression one year after baseline\n",
      "\n",
      "  :Attribute Information:\n",
      "      - age     age in years\n",
      "      - sex\n",
      "      - bmi     body mass index\n",
      "      - bp      average blood pressure\n",
      "      - s1      tc, total serum cholesterol\n",
      "      - s2      ldl, low-density lipoproteins\n",
      "      - s3      hdl, high-density lipoproteins\n",
      "      - s4      tch, total cholesterol / HDL\n",
      "      - s5      ltg, possibly log of serum triglycerides level\n",
      "      - s6      glu, blood sugar level\n",
      "\n",
      "Note: Each of these 10 feature variables have been mean centered and scaled by the standard deviation times `n_samples` (i.e. the sum of squares of each column totals 1).\n",
      "\n",
      "Source URL:\n",
      "https://www4.stat.ncsu.edu/~boos/var.select/diabetes.html\n",
      "\n",
      "For more information see:\n",
      "Bradley Efron, Trevor Hastie, Iain Johnstone and Robert Tibshirani (2004) \"Least Angle Regression,\" Annals of Statistics (with discussion), 407-499.\n",
      "(https://web.stanford.edu/~hastie/Papers/LARS/LeastAngle_2002.pdf)\n"
     ]
    }
   ],
   "source": [
    "db_data = load_diabetes()\n",
    "print(db_data.DESCR)"
   ]
  },
  {
   "cell_type": "code",
   "execution_count": 3,
   "id": "360c8513",
   "metadata": {},
   "outputs": [
    {
     "data": {
      "text/plain": [
       "sklearn.utils.Bunch"
      ]
     },
     "execution_count": 3,
     "metadata": {},
     "output_type": "execute_result"
    }
   ],
   "source": [
    "type(db_data)"
   ]
  },
  {
   "cell_type": "code",
   "execution_count": 385,
   "id": "cb15c3e7",
   "metadata": {},
   "outputs": [],
   "source": [
    "feats = db_data['data']\n",
    "target = db_data['target']"
   ]
  },
  {
   "cell_type": "code",
   "execution_count": 386,
   "id": "2d366e46",
   "metadata": {},
   "outputs": [
    {
     "name": "stdout",
     "output_type": "stream",
     "text": [
      "<class 'numpy.ndarray'>\n",
      "<class 'numpy.ndarray'>\n"
     ]
    }
   ],
   "source": [
    "print(type(feats))\n",
    "print(type(target))"
   ]
  },
  {
   "cell_type": "markdown",
   "id": "217fb214",
   "metadata": {},
   "source": [
    "For this assignment I will be choosing s6 (glu, blood sugar level) as my single feature to predict the target variable (disease progression). My reasoning is that I think a low or high blood sugar level will have an effect on progression of diabetes. "
   ]
  },
  {
   "cell_type": "code",
   "execution_count": 387,
   "id": "ddbf04f7",
   "metadata": {},
   "outputs": [],
   "source": [
    "s6_feats = feats[:, 9]"
   ]
  },
  {
   "cell_type": "code",
   "execution_count": 388,
   "id": "ad29d751",
   "metadata": {},
   "outputs": [],
   "source": [
    "# s6 train and test set, test set has the last 20 rows\n",
    "s6_test = s6_feats[421:].reshape(-1,1)\n",
    "s6_train = s6_feats[:421].reshape(-1,1)\n",
    "\n",
    "# target train and test set, test set has the last 20 rows\n",
    "target_test = target[421:].reshape(-1,1)\n",
    "target_train = target[:421].reshape(-1,1)"
   ]
  },
  {
   "cell_type": "code",
   "execution_count": 389,
   "id": "c6c981bb",
   "metadata": {},
   "outputs": [
    {
     "data": {
      "text/plain": [
       "numpy.ndarray"
      ]
     },
     "execution_count": 389,
     "metadata": {},
     "output_type": "execute_result"
    }
   ],
   "source": [
    "# type check\n",
    "type(s6_test)"
   ]
  },
  {
   "cell_type": "code",
   "execution_count": 390,
   "id": "c8b691c9",
   "metadata": {},
   "outputs": [
    {
     "data": {
      "text/plain": [
       "array([[212.],\n",
       "       [233.],\n",
       "       [ 91.],\n",
       "       [111.],\n",
       "       [152.],\n",
       "       [120.],\n",
       "       [ 67.],\n",
       "       [310.],\n",
       "       [ 94.],\n",
       "       [183.],\n",
       "       [ 66.],\n",
       "       [173.],\n",
       "       [ 72.],\n",
       "       [ 49.],\n",
       "       [ 64.],\n",
       "       [ 48.],\n",
       "       [178.],\n",
       "       [104.],\n",
       "       [132.],\n",
       "       [220.],\n",
       "       [ 57.]])"
      ]
     },
     "execution_count": 390,
     "metadata": {},
     "output_type": "execute_result"
    }
   ],
   "source": [
    "# visual check\n",
    "target_test"
   ]
  },
  {
   "cell_type": "markdown",
   "id": "0a32453b",
   "metadata": {},
   "source": [
    "## Part 2 Model Training\n",
    "\n",
    "Model Training. Instantiate a linear regression model, and train it with your single feature and target sets."
   ]
  },
  {
   "cell_type": "code",
   "execution_count": 391,
   "id": "37ec4d6e",
   "metadata": {},
   "outputs": [],
   "source": [
    "from sklearn.linear_model import LinearRegression"
   ]
  },
  {
   "cell_type": "code",
   "execution_count": 392,
   "id": "916223f8",
   "metadata": {},
   "outputs": [
    {
     "data": {
      "text/plain": [
       "LinearRegression()"
      ]
     },
     "execution_count": 392,
     "metadata": {},
     "output_type": "execute_result"
    }
   ],
   "source": [
    "# create and train model\n",
    "lm = LinearRegression()\n",
    "lm.fit(s6_train, target_train)"
   ]
  },
  {
   "cell_type": "markdown",
   "id": "c580e129",
   "metadata": {},
   "source": [
    "Here we have trained the model with the s6 feature and the target training sets. Below we will look at how the model did using the test set. "
   ]
  },
  {
   "cell_type": "markdown",
   "id": "21a4575d",
   "metadata": {},
   "source": [
    "## Part 3 Prediction and Measurement\n",
    "\n",
    "Prediction and measurement. List the first 10 predictions on your single feature test set. Print out the feature coefficient and the root mean squared error of your model."
   ]
  },
  {
   "cell_type": "markdown",
   "id": "e8cb9b1d",
   "metadata": {},
   "source": [
    "### Predictions on Training Set"
   ]
  },
  {
   "cell_type": "code",
   "execution_count": 393,
   "id": "3444c622",
   "metadata": {},
   "outputs": [],
   "source": [
    "preds_train = lm.predict(s6_train)"
   ]
  },
  {
   "cell_type": "code",
   "execution_count": 394,
   "id": "6c454176",
   "metadata": {
    "scrolled": true
   },
   "outputs": [
    {
     "name": "stdout",
     "output_type": "stream",
     "text": [
      "First 10 predictions \n"
     ]
    },
    {
     "data": {
      "text/plain": [
       "array([[142.43051746],\n",
       "       [ 95.48015082],\n",
       "       [137.21381006],\n",
       "       [147.64722486],\n",
       "       [124.17204154],\n",
       "       [ 92.87179712],\n",
       "       [129.38874895],\n",
       "       [155.47228597],\n",
       "       [160.68899338],\n",
       "       [145.03887116]])"
      ]
     },
     "execution_count": 394,
     "metadata": {},
     "output_type": "execute_result"
    }
   ],
   "source": [
    "print(\"First 10 predictions \")\n",
    "preds_train[:10]"
   ]
  },
  {
   "cell_type": "code",
   "execution_count": 395,
   "id": "c0797761",
   "metadata": {
    "scrolled": true
   },
   "outputs": [
    {
     "data": {
      "text/plain": [
       "array([[629.71665288]])"
      ]
     },
     "execution_count": 395,
     "metadata": {},
     "output_type": "execute_result"
    }
   ],
   "source": [
    "# Extracting the feature coefficient\n",
    "lm.coef_"
   ]
  },
  {
   "cell_type": "markdown",
   "id": "16bdebda",
   "metadata": {},
   "source": [
    "The feature coefficient is 629.71665."
   ]
  },
  {
   "cell_type": "code",
   "execution_count": 396,
   "id": "4671fb6a",
   "metadata": {},
   "outputs": [
    {
     "data": {
      "text/plain": [
       "71.14690436181795"
      ]
     },
     "execution_count": 396,
     "metadata": {},
     "output_type": "execute_result"
    }
   ],
   "source": [
    "# Calculating the root mean squared error\n",
    "from sklearn.metrics import mean_squared_error\n",
    "rmse = mean_squared_error(target_train, preds_train, squared=False)\n",
    "rmse"
   ]
  },
  {
   "cell_type": "markdown",
   "id": "a70cb1db",
   "metadata": {},
   "source": [
    "The rmse obtained is 71.1469"
   ]
  },
  {
   "cell_type": "markdown",
   "id": "8dc15c1b",
   "metadata": {},
   "source": [
    "### Predictions on Test set"
   ]
  },
  {
   "cell_type": "code",
   "execution_count": 397,
   "id": "715166b2",
   "metadata": {},
   "outputs": [],
   "source": [
    "preds_test = lm.predict(s6_test)"
   ]
  },
  {
   "cell_type": "code",
   "execution_count": 398,
   "id": "5a059c8e",
   "metadata": {
    "scrolled": true
   },
   "outputs": [
    {
     "name": "stdout",
     "output_type": "stream",
     "text": [
      "First 10 predictions \n"
     ]
    },
    {
     "data": {
      "text/plain": [
       "array([[163.29734708],\n",
       "       [147.64722486],\n",
       "       [124.17204154],\n",
       "       [168.51405448],\n",
       "       [121.56368784],\n",
       "       [207.63936002],\n",
       "       [173.73076189],\n",
       "       [236.33125074],\n",
       "       [129.38874895],\n",
       "       [142.43051746]])"
      ]
     },
     "execution_count": 398,
     "metadata": {},
     "output_type": "execute_result"
    }
   ],
   "source": [
    "print(\"First 10 predictions \")\n",
    "preds_test[:10]"
   ]
  },
  {
   "cell_type": "code",
   "execution_count": 399,
   "id": "f6376932",
   "metadata": {
    "scrolled": true
   },
   "outputs": [
    {
     "data": {
      "text/plain": [
       "array([[629.71665288]])"
      ]
     },
     "execution_count": 399,
     "metadata": {},
     "output_type": "execute_result"
    }
   ],
   "source": [
    "# Extracting the feature coefficient\n",
    "lm.coef_"
   ]
  },
  {
   "cell_type": "markdown",
   "id": "a556036b",
   "metadata": {},
   "source": [
    "The feature coefficient is 629.71665."
   ]
  },
  {
   "cell_type": "code",
   "execution_count": 400,
   "id": "ce3c4e04",
   "metadata": {},
   "outputs": [
    {
     "data": {
      "text/plain": [
       "71.55005912812985"
      ]
     },
     "execution_count": 400,
     "metadata": {},
     "output_type": "execute_result"
    }
   ],
   "source": [
    "# Calculating the root mean squared error\n",
    "rmse = mean_squared_error(target_test, preds_test, squared=False)\n",
    "rmse"
   ]
  },
  {
   "cell_type": "markdown",
   "id": "4b0b6cbf",
   "metadata": {},
   "source": [
    "The rmse obtained is 71.550059."
   ]
  },
  {
   "cell_type": "markdown",
   "id": "45901fb5",
   "metadata": {},
   "source": [
    "## Part 4 Visualization\n",
    "Visualization. Print out a scatter plot with the feature you chose on the x-axis, and progression on the y-axis. Plot the regression line on this same graph with appropriate labels on each axis."
   ]
  },
  {
   "cell_type": "markdown",
   "id": "01c6a7d0",
   "metadata": {},
   "source": [
    "### Plot using Training Set"
   ]
  },
  {
   "cell_type": "code",
   "execution_count": 401,
   "id": "10367003",
   "metadata": {},
   "outputs": [
    {
     "data": {
      "image/png": "[encoded data removed]",
      "text/plain": [
       "<Figure size 432x288 with 1 Axes>"
      ]
     },
     "metadata": {
      "needs_background": "light"
     },
     "output_type": "display_data"
    }
   ],
   "source": [
    "plt.scatter(s6_train, target_train, color=\"black\")\n",
    "plt.plot(s6_train, preds_train, color=\"red\", linewidth=2, label=\"Regression Line \")\n",
    "plt.xlabel('s6 (glu, blood sugar level)') \n",
    "plt.ylabel('Progression')\n",
    "plt.title(\"glu vs Progression\")\n",
    "plt.legend(loc='best')\n",
    "plt.show()"
   ]
  },
  {
   "cell_type": "markdown",
   "id": "20ed7f1b",
   "metadata": {},
   "source": [
    "#### Actual vs Prediction (Training)"
   ]
  },
  {
   "cell_type": "code",
   "execution_count": 402,
   "id": "419c0395",
   "metadata": {
    "scrolled": true
   },
   "outputs": [
    {
     "data": {
      "image/png": "[encoded data removed]",
      "text/plain": [
       "<Figure size 432x288 with 1 Axes>"
      ]
     },
     "metadata": {},
     "output_type": "display_data"
    }
   ],
   "source": [
    "plt.scatter(x = target_train, y = preds_train, color ='black') \n",
    "plt.xlabel('Progression (Train, Actual)')\n",
    "plt.ylabel('Progression (Train, Predicted)')\n",
    "plt.title('Actual vs Predicted, Training Set')\n",
    "plt.xticks(())\n",
    "plt.yticks(())\n",
    "plt.show()"
   ]
  },
  {
   "cell_type": "markdown",
   "id": "ebb910c9",
   "metadata": {},
   "source": [
    "If the model was accurate we would see a diagonal line in the actual vs predicted values. We see a lot a of variablilty in the data."
   ]
  },
  {
   "cell_type": "markdown",
   "id": "87ae6271",
   "metadata": {},
   "source": [
    "### Plot using Test Set"
   ]
  },
  {
   "cell_type": "code",
   "execution_count": 403,
   "id": "08e6e555",
   "metadata": {},
   "outputs": [
    {
     "data": {
      "image/png": "[encoded data removed]",
      "text/plain": [
       "<Figure size 432x288 with 1 Axes>"
      ]
     },
     "metadata": {
      "needs_background": "light"
     },
     "output_type": "display_data"
    }
   ],
   "source": [
    "plt.scatter(s6_test, target_test, color=\"black\")\n",
    "plt.plot(s6_test, preds_test, color=\"red\", linewidth=2, label=\"Regression Line \")\n",
    "plt.xlabel('s6 (glu, blood sugar level)') \n",
    "plt.ylabel('Progression')\n",
    "plt.title(\"glu vs Progression\")\n",
    "plt.legend(loc='best')\n",
    "plt.show()"
   ]
  },
  {
   "cell_type": "markdown",
   "id": "bbf50029",
   "metadata": {},
   "source": [
    "#### Actual vs Prediction (Test)"
   ]
  },
  {
   "cell_type": "code",
   "execution_count": 404,
   "id": "818956e2",
   "metadata": {
    "scrolled": true
   },
   "outputs": [
    {
     "data": {
      "image/png": "[encoded data removed]",
      "text/plain": [
       "<Figure size 432x288 with 1 Axes>"
      ]
     },
     "metadata": {
      "needs_background": "light"
     },
     "output_type": "display_data"
    }
   ],
   "source": [
    "plt.scatter(x = target_test, y = preds_test, color = 'black') \n",
    "plt.xlabel('Progression (Test, Actual)')\n",
    "plt.ylabel('Progression (Test, Predicted)')\n",
    "plt.title('Actual vs Predicted, Test Set')\n",
    "plt.show()"
   ]
  },
  {
   "cell_type": "markdown",
   "id": "8fd67f90",
   "metadata": {},
   "source": [
    "If the model was accurate we would see a diagonal line in the actual vs predicted values. We see a lot a of variablilty in the data. "
   ]
  }
 ],
 "metadata": {
  "kernelspec": {
   "display_name": "Python 3 (ipykernel)",
   "language": "python",
   "name": "python3"
  },
  "language_info": {
   "codemirror_mode": {
    "name": "ipython",
    "version": 3
   },
   "file_extension": ".py",
   "mimetype": "text/x-python",
   "name": "python",
   "nbconvert_exporter": "python",
   "pygments_lexer": "ipython3",
   "version": "3.9.12"
  }
 },
 "nbformat": 4,
 "nbformat_minor": 5
}
